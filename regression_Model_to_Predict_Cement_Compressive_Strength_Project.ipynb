# import library
import pandas as pd
# import data
cement = pd.read_csv('https://github.com/ybifoundation/Dataset/raw/main/Concrete%20Compressive%20Strength.csv')
# view data
cement.head(5)
Cement (kg in a m^3 mixture)	Blast Furnace Slag (kg in a m^3 mixture)	Fly Ash (kg in a m^3 mixture)	Water (kg in a m^3 mixture)	Superplasticizer (kg in a m^3 mixture)	Coarse Aggregate (kg in a m^3 mixture)	Fine Aggregate (kg in a m^3 mixture)	Age (day)	Concrete Compressive Strength(MPa, megapascals)
0	540.0	0.0	0.0	162.0	2.5	1040.0	676.0	28	79.986111
1	540.0	0.0	0.0	162.0	2.5	1055.0	676.0	28	61.887366
2	332.5	142.5	0.0	228.0	0.0	932.0	594.0	270	40.269535
3	332.5	142.5	0.0	228.0	0.0	932.0	594.0	365	41.052780
4	198.6	132.4	0.0	192.0	0.0	978.4	825.5	360	44.296075
# info of data
cement.info()
<class 'pandas.core.frame.DataFrame'>
RangeIndex: 1030 entries, 0 to 1029
Data columns (total 9 columns):
 #   Column                                            Non-Null Count  Dtype  
---  ------                                            --------------  -----  
 0   Cement (kg in a m^3 mixture)                      1030 non-null   float64
 1   Blast Furnace Slag (kg in a m^3 mixture)          1030 non-null   float64
 2   Fly Ash (kg in a m^3 mixture)                     1030 non-null   float64
 3   Water (kg in a m^3 mixture)                       1030 non-null   float64
 4   Superplasticizer (kg in a m^3 mixture)            1030 non-null   float64
 5   Coarse Aggregate (kg in a m^3 mixture)            1030 non-null   float64
 6   Fine Aggregate (kg in a m^3 mixture)              1030 non-null   float64
 7   Age (day)                                         1030 non-null   int64  
 8   Concrete Compressive Strength(MPa, megapascals)   1030 non-null   float64
dtypes: float64(8), int64(1)
memory usage: 72.5 KB
# summary statistics
cement.describe()
Cement (kg in a m^3 mixture)	Blast Furnace Slag (kg in a m^3 mixture)	Fly Ash (kg in a m^3 mixture)	Water (kg in a m^3 mixture)	Superplasticizer (kg in a m^3 mixture)	Coarse Aggregate (kg in a m^3 mixture)	Fine Aggregate (kg in a m^3 mixture)	Age (day)	Concrete Compressive Strength(MPa, megapascals)
count	1030.000000	1030.000000	1030.000000	1030.000000	1030.000000	1030.000000	1030.000000	1030.000000	1030.000000
mean	281.165631	73.895485	54.187136	181.566359	6.203112	972.918592	773.578883	45.662136	35.817836
std	104.507142	86.279104	63.996469	21.355567	5.973492	77.753818	80.175427	63.169912	16.705679
min	102.000000	0.000000	0.000000	121.750000	0.000000	801.000000	594.000000	1.000000	2.331808
25%	192.375000	0.000000	0.000000	164.900000	0.000000	932.000000	730.950000	7.000000	23.707115
50%	272.900000	22.000000	0.000000	185.000000	6.350000	968.000000	779.510000	28.000000	34.442774
75%	350.000000	142.950000	118.270000	192.000000	10.160000	1029.400000	824.000000	56.000000	46.136287
max	540.000000	359.400000	200.100000	247.000000	32.200000	1145.000000	992.600000	365.000000	82.599225
# check for missing value
cement.isnull().any()
Cement (kg in a m^3 mixture)                        False
Blast Furnace Slag (kg in a m^3 mixture)            False
Fly Ash (kg in a m^3 mixture)                       False
Water (kg in a m^3 mixture)                         False
Superplasticizer (kg in a m^3 mixture)              False
Coarse Aggregate (kg in a m^3 mixture)              False
Fine Aggregate (kg in a m^3 mixture)                False
Age (day)                                           False
Concrete Compressive Strength(MPa, megapascals)     False
dtype: bool
cement.head()
Cement (kg in a m^3 mixture)	Blast Furnace Slag (kg in a m^3 mixture)	Fly Ash (kg in a m^3 mixture)	Water (kg in a m^3 mixture)	Superplasticizer (kg in a m^3 mixture)	Coarse Aggregate (kg in a m^3 mixture)	Fine Aggregate (kg in a m^3 mixture)	Age (day)	Concrete Compressive Strength(MPa, megapascals)
0	540.0	0.0	0.0	162.0	2.5	1040.0	676.0	28	79.986111
1	540.0	0.0	0.0	162.0	2.5	1055.0	676.0	28	61.887366
2	332.5	142.5	0.0	228.0	0.0	932.0	594.0	270	40.269535
3	332.5	142.5	0.0	228.0	0.0	932.0	594.0	365	41.052780
4	198.6	132.4	0.0	192.0	0.0	978.4	825.5	360	44.296075
import seaborn
import matplotlib.pyplot as plt
# visualize pairplot
seaborn.pairplot(cement)
plt.show()

# columns name
cement.columns
Index(['Cement (kg in a m^3 mixture)',
       'Blast Furnace Slag (kg in a m^3 mixture)',
       'Fly Ash (kg in a m^3 mixture)', 'Water (kg in a m^3 mixture)',
       'Superplasticizer (kg in a m^3 mixture)',
       'Coarse Aggregate (kg in a m^3 mixture)',
       'Fine Aggregate (kg in a m^3 mixture)', 'Age (day)',
       'Concrete Compressive Strength(MPa, megapascals) '],
      dtype='object')
# define y
y=cement['Concrete Compressive Strength(MPa, megapascals) ']
# define X
X=cement.drop(['Concrete Compressive Strength(MPa, megapascals) '],axis=1)
# split data
from sklearn.model_selection import train_test_split
X_train, X_test, y_train, y_test = train_test_split(X,y, train_size=0.7, random_state=2529)
# verify shape
X_train.shape, X_test.shape, y_train.shape, y_test.shape
((721, 8), (309, 8), (721,), (309,))
# select model
from sklearn.linear_model import LinearRegression
model = LinearRegression()
# train model
model.fit(X_train,y_train)
LinearRegression()
# predict with model
y_pred=model.predict(X_test)
# model evaluation
model.score(X_test,y_test)
0.5546299611165384
# model MAE
from sklearn.metrics import mean_absolute_error as mae
mae(y_test, y_pred)
8.683767775410706
# model MAPE
from sklearn.metrics import mean_absolute_percentage_error as mape
mape(y_test,y_pred)
0.31344401843208664
# model MSE
from sklearn.metrics import mean_squared_error as mse
mse(y_test,y_pred)
120.40313453787674
# future prediction
Cement (kg in a m^3 mixture)	Blast Furnace Slag (kg in a m^3 mixture)	Fly Ash (kg in a m^3 mixture)	Water (kg in a m^3 mixture)	Superplasticizer (kg in a m^3 mixture)	Coarse Aggregate (kg in a m^3 mixture)	Fine Aggregate (kg in a m^3 mixture)	Age (day)	Concrete Compressive Strength(MPa, megapascals)
405	500.0	0.0	0.0	151.0	9.0	1033.0	655.0	28	69.837024
# define X_new
import numpy
X_new=numpy.array([500,0,0,151,9,1033,655,28]).reshape(1,-1)
# predict for X_new
model.predict(X_new)
C:\Users\karthick-pt5869\Anaconda3\lib\site-packages\sklearn\base.py:450: UserWarning: X does not have valid feature names, but LinearRegression was fitted with feature names
  warnings.warn(
array([52.94562122])