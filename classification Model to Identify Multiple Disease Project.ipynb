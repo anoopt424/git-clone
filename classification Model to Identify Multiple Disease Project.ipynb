# import library
import pandas as pd
# import data
disease = pd.read_csv('https://github.com/ybifoundation/Dataset/raw/main/MultipleDiseasePrediction.csv')
# view data
disease.head(5)
itching	skin_rash	nodal_skin_eruptions	continuous_sneezing	shivering	chills	joint_pain	stomach_pain	acidity	ulcers_on_tongue	...	blackheads	scurring	skin_peeling	silver_like_dusting	small_dents_in_nails	inflammatory_nails	blister	red_sore_around_nose	yellow_crust_ooze	prognosis
0	1	1	1	0	0	0	0	0	0	0	...	0	0	0	0	0	0	0	0	0	Fungal infection
1	0	1	1	0	0	0	0	0	0	0	...	0	0	0	0	0	0	0	0	0	Fungal infection
2	1	0	1	0	0	0	0	0	0	0	...	0	0	0	0	0	0	0	0	0	Fungal infection
3	1	1	0	0	0	0	0	0	0	0	...	0	0	0	0	0	0	0	0	0	Fungal infection
4	1	1	1	0	0	0	0	0	0	0	...	0	0	0	0	0	0	0	0	0	Fungal infection
5 rows × 133 columns

# info of data
disease.info()
<class 'pandas.core.frame.DataFrame'>
RangeIndex: 4920 entries, 0 to 4919
Columns: 133 entries, itching to prognosis
dtypes: int64(132), object(1)
memory usage: 5.0+ MB
# summary statistics
disease.describe()
itching	skin_rash	nodal_skin_eruptions	continuous_sneezing	shivering	chills	joint_pain	stomach_pain	acidity	ulcers_on_tongue	...	pus_filled_pimples	blackheads	scurring	skin_peeling	silver_like_dusting	small_dents_in_nails	inflammatory_nails	blister	red_sore_around_nose	yellow_crust_ooze
count	4920.000000	4920.000000	4920.000000	4920.000000	4920.000000	4920.000000	4920.000000	4920.000000	4920.000000	4920.000000	...	4920.000000	4920.000000	4920.000000	4920.000000	4920.000000	4920.000000	4920.000000	4920.000000	4920.000000	4920.000000
mean	0.137805	0.159756	0.021951	0.045122	0.021951	0.162195	0.139024	0.045122	0.045122	0.021951	...	0.021951	0.021951	0.021951	0.023171	0.023171	0.023171	0.023171	0.023171	0.023171	0.023171
std	0.344730	0.366417	0.146539	0.207593	0.146539	0.368667	0.346007	0.207593	0.207593	0.146539	...	0.146539	0.146539	0.146539	0.150461	0.150461	0.150461	0.150461	0.150461	0.150461	0.150461
min	0.000000	0.000000	0.000000	0.000000	0.000000	0.000000	0.000000	0.000000	0.000000	0.000000	...	0.000000	0.000000	0.000000	0.000000	0.000000	0.000000	0.000000	0.000000	0.000000	0.000000
25%	0.000000	0.000000	0.000000	0.000000	0.000000	0.000000	0.000000	0.000000	0.000000	0.000000	...	0.000000	0.000000	0.000000	0.000000	0.000000	0.000000	0.000000	0.000000	0.000000	0.000000
50%	0.000000	0.000000	0.000000	0.000000	0.000000	0.000000	0.000000	0.000000	0.000000	0.000000	...	0.000000	0.000000	0.000000	0.000000	0.000000	0.000000	0.000000	0.000000	0.000000	0.000000
75%	0.000000	0.000000	0.000000	0.000000	0.000000	0.000000	0.000000	0.000000	0.000000	0.000000	...	0.000000	0.000000	0.000000	0.000000	0.000000	0.000000	0.000000	0.000000	0.000000	0.000000
max	1.000000	1.000000	1.000000	1.000000	1.000000	1.000000	1.000000	1.000000	1.000000	1.000000	...	1.000000	1.000000	1.000000	1.000000	1.000000	1.000000	1.000000	1.000000	1.000000	1.000000
8 rows × 132 columns

# check for missing value
disease.isnull().any()
itching                 False
skin_rash               False
nodal_skin_eruptions    False
continuous_sneezing     False
shivering               False
                        ...  
inflammatory_nails      False
blister                 False
red_sore_around_nose    False
yellow_crust_ooze       False
prognosis               False
Length: 133, dtype: bool
# check for categories
disease.nunique()
itching                  2
skin_rash                2
nodal_skin_eruptions     2
continuous_sneezing      2
shivering                2
                        ..
inflammatory_nails       2
blister                  2
red_sore_around_nose     2
yellow_crust_ooze        2
prognosis               41
Length: 133, dtype: int64
# correlation
disease.corr()
itching	skin_rash	nodal_skin_eruptions	continuous_sneezing	shivering	chills	joint_pain	stomach_pain	acidity	ulcers_on_tongue	...	pus_filled_pimples	blackheads	scurring	skin_peeling	silver_like_dusting	small_dents_in_nails	inflammatory_nails	blister	red_sore_around_nose	yellow_crust_ooze
itching	1.000000	0.318158	0.326439	-0.086906	-0.059893	-0.175905	-0.160650	0.202850	-0.086906	-0.059893	...	-0.059893	-0.059893	-0.059893	-0.061573	-0.061573	-0.061573	-0.061573	-0.061573	-0.061573	-0.061573
skin_rash	0.318158	1.000000	0.298143	-0.094786	-0.065324	-0.029324	0.171134	0.161784	-0.094786	-0.065324	...	0.320859	0.320859	0.320859	0.331087	0.331087	0.331087	0.331087	0.331087	0.331087	0.331087
nodal_skin_eruptions	0.326439	0.298143	1.000000	-0.032566	-0.022444	-0.065917	-0.060200	-0.032566	-0.032566	-0.022444	...	-0.022444	-0.022444	-0.022444	-0.023073	-0.023073	-0.023073	-0.023073	-0.023073	-0.023073	-0.023073
continuous_sneezing	-0.086906	-0.094786	-0.032566	1.000000	0.608981	0.446238	-0.087351	-0.047254	-0.047254	-0.032566	...	-0.032566	-0.032566	-0.032566	-0.033480	-0.033480	-0.033480	-0.033480	-0.033480	-0.033480	-0.033480
shivering	-0.059893	-0.065324	-0.022444	0.608981	1.000000	0.295332	-0.060200	-0.032566	-0.032566	-0.022444	...	-0.022444	-0.022444	-0.022444	-0.023073	-0.023073	-0.023073	-0.023073	-0.023073	-0.023073	-0.023073
...	...	...	...	...	...	...	...	...	...	...	...	...	...	...	...	...	...	...	...	...	...
small_dents_in_nails	-0.061573	0.331087	-0.023073	-0.033480	-0.023073	-0.067765	0.359845	-0.033480	-0.033480	-0.023073	...	-0.023073	-0.023073	-0.023073	0.946120	0.946120	1.000000	0.946120	-0.023720	-0.023720	-0.023720
inflammatory_nails	-0.061573	0.331087	-0.023073	-0.033480	-0.023073	-0.067765	0.359845	-0.033480	-0.033480	-0.023073	...	-0.023073	-0.023073	-0.023073	0.946120	0.946120	0.946120	1.000000	-0.023720	-0.023720	-0.023720
blister	-0.061573	0.331087	-0.023073	-0.033480	-0.023073	-0.067765	-0.061889	-0.033480	-0.033480	-0.023073	...	-0.023073	-0.023073	-0.023073	-0.023720	-0.023720	-0.023720	-0.023720	1.000000	0.946120	0.946120
red_sore_around_nose	-0.061573	0.331087	-0.023073	-0.033480	-0.023073	-0.067765	-0.061889	-0.033480	-0.033480	-0.023073	...	-0.023073	-0.023073	-0.023073	-0.023720	-0.023720	-0.023720	-0.023720	0.946120	1.000000	0.946120
yellow_crust_ooze	-0.061573	0.331087	-0.023073	-0.033480	-0.023073	-0.067765	-0.061889	-0.033480	-0.033480	-0.023073	...	-0.023073	-0.023073	-0.023073	-0.023720	-0.023720	-0.023720	-0.023720	0.946120	0.946120	1.000000
132 rows × 132 columns

# visualize pairplot
import seaborn
import matplotlib.pyplot as plt
# column names
disease.columns
Index(['itching', 'skin_rash', 'nodal_skin_eruptions', 'continuous_sneezing',
       'shivering', 'chills', 'joint_pain', 'stomach_pain', 'acidity',
       'ulcers_on_tongue',
       ...
       'blackheads', 'scurring', 'skin_peeling', 'silver_like_dusting',
       'small_dents_in_nails', 'inflammatory_nails', 'blister',
       'red_sore_around_nose', 'yellow_crust_ooze', 'prognosis'],
      dtype='object', length=133)
# define y
y=disease['prognosis']
# define X
X=disease.drop(['prognosis'],axis=1)
# split data
from sklearn.model_selection import train_test_split
X_train, X_test, y_train, y_test = train_test_split(X,y, train_size=0.7, random_state=2529)
# verify shape
X_train.shape, X_test.shape, y_train.shape, y_test.shape
((3444, 132), (1476, 132), (3444,), (1476,))
# select model
from sklearn.ensemble import RandomForestClassifier
model = RandomForestClassifier(max_depth=2, random_state=0)
# train model
model.fit(X_train,y_train)
RandomForestClassifier(max_depth=2, random_state=0)
# predict model
y_pred=model.predict(X_test)
# model evaluation
model.score(X_test,y_test)
0.7784552845528455
# model accuracy
from sklearn.metrics import accuracy_score, confusion_matrix, classification_report
accuracy_score(y_test,y_pred)
0.7784552845528455
# model confusion matrix
confusion_matrix(y_test,y_pred)
array([[31,  0,  0, ...,  0,  0,  0],
       [ 0, 32,  0, ...,  0,  0,  0],
       [ 0,  0, 35, ...,  0,  0,  0],
       ...,
       [ 0,  0,  0, ..., 39,  0,  0],
       [ 0,  0,  0, ...,  0, 35,  0],
       [ 0,  0,  0, ...,  0,  0, 32]], dtype=int64)
# model classification report
print(classification_report(y_test,y_pred))
                                         precision    recall  f1-score   support

(vertigo) Paroymsal  Positional Vertigo       1.00      1.00      1.00        31
                                   AIDS       1.00      0.86      0.93        37
                                   Acne       1.00      1.00      1.00        35
                    Alcoholic hepatitis       1.00      1.00      1.00        40
                                Allergy       1.00      0.89      0.94        37
                              Arthritis       1.00      0.91      0.95        46
                       Bronchial Asthma       1.00      0.92      0.96        37
                   Cervical spondylosis       0.49      1.00      0.66        31
                            Chicken pox       1.00      1.00      1.00        29
                    Chronic cholestasis       0.00      0.00      0.00        32
                            Common Cold       1.00      1.00      1.00        39
                                 Dengue       1.00      1.00      1.00        35
                              Diabetes        1.00      1.00      1.00        35
           Dimorphic hemmorhoids(piles)       1.00      1.00      1.00        34
                          Drug Reaction       1.00      1.00      1.00        38
                       Fungal infection       1.00      1.00      1.00        35
                                   GERD       0.15      1.00      0.26        31
                        Gastroenteritis       1.00      1.00      1.00        36
                           Heart attack       0.00      0.00      0.00        41
                            Hepatitis B       1.00      1.00      1.00        46
                            Hepatitis C       0.31      1.00      0.47        32
                            Hepatitis D       0.00      0.00      0.00        39
                            Hepatitis E       1.00      1.00      1.00        29
                          Hypertension        1.00      0.03      0.06        33
                        Hyperthyroidism       1.00      1.00      1.00        36
                           Hypoglycemia       1.00      1.00      1.00        33
                         Hypothyroidism       1.00      1.00      1.00        30
                               Impetigo       0.00      0.00      0.00        48
                               Jaundice       0.00      0.00      0.00        36
                                Malaria       0.00      0.00      0.00        41
                               Migraine       1.00      1.00      1.00        38
                        Osteoarthristis       0.95      1.00      0.97        38
           Paralysis (brain hemorrhage)       0.00      0.00      0.00        42
                    Peptic ulcer diseae       1.00      1.00      1.00        29
                              Pneumonia       1.00      1.00      1.00        33
                              Psoriasis       1.00      1.00      1.00        33
                           Tuberculosis       1.00      1.00      1.00        42
                                Typhoid       1.00      1.00      1.00        33
                Urinary tract infection       1.00      1.00      1.00        39
                         Varicose veins       1.00      1.00      1.00        35
                            hepatitis A       0.44      1.00      0.61        32

                               accuracy                           0.78      1476
                              macro avg       0.76      0.80      0.75      1476
                           weighted avg       0.75      0.78      0.74      1476

C:\Users\karthick-pt5869\Anaconda3\lib\site-packages\sklearn\metrics\_classification.py:1318: UndefinedMetricWarning: Precision and F-score are ill-defined and being set to 0.0 in labels with no predicted samples. Use `zero_division` parameter to control this behavior.
  _warn_prf(average, modifier, msg_start, len(result))
C:\Users\karthick-pt5869\Anaconda3\lib\site-packages\sklearn\metrics\_classification.py:1318: UndefinedMetricWarning: Precision and F-score are ill-defined and being set to 0.0 in labels with no predicted samples. Use `zero_division` parameter to control this behavior.
  _warn_prf(average, modifier, msg_start, len(result))
C:\Users\karthick-pt5869\Anaconda3\lib\site-packages\sklearn\metrics\_classification.py:1318: UndefinedMetricWarning: Precision and F-score are ill-defined and being set to 0.0 in labels with no predicted samples. Use `zero_division` parameter to control this behavior.
  _warn_prf(average, modifier, msg_start, len(result))
# future prediction
y_pred=model.predict(X_test)
# define X_new
X_new=X[130:131]
# predict for X_new
model.predict(X_new)
array(['GERD'], dtype=object)